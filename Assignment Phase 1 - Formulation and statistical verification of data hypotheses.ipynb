{
 "cells": [
  {
   "cell_type": "code",
   "execution_count": null,
   "metadata": {},
   "outputs": [],
   "source": [
    "import seaborn as sns\n",
    "import pandas as pd\n",
    "import numpy as np\n",
    "import matplotlib\n",
    "import matplotlib.pyplot as plt\n",
    "import plotly.express as px"
   ]
  },
  {
   "cell_type": "code",
   "execution_count": null,
   "metadata": {},
   "outputs": [],
   "source": [
    "df = pd.read_csv(\"Dataset.csv\", na_values='?')\n",
    "df = df.set_index(pd.DatetimeIndex(df['revision']))\n",
    "df = df.drop(columns=['revision'])\n",
    "df['warning'] = df['warning'].astype(bool)"
   ]
  },
  {
   "cell_type": "code",
   "execution_count": null,
   "metadata": {},
   "outputs": [],
   "source": [
    "df.head(1)"
   ]
  },
  {
   "cell_type": "code",
   "execution_count": null,
   "metadata": {},
   "outputs": [],
   "source": [
    "fig = px.scatter_geo(df, lat=df.latitude, lon=df.longitude, hover_name=df.City, color=df.TEMP, height=600)\n",
    "fig.update_traces(marker=dict(size=10))\n",
    "fig.update_layout(title = 'Air Quality Monitoring Stations, 2014-2018', title_x=0.5)\n",
    "fig.show()"
   ]
  },
  {
   "cell_type": "code",
   "execution_count": null,
   "metadata": {},
   "outputs": [],
   "source": [
    "f = plt.figure(figsize=(10, 10))\n",
    "plt.matshow(df.corr(), fignum=f.number)\n",
    "plt.xticks(range(df.select_dtypes(['number']).shape[1]), df.select_dtypes(['number']).columns, fontsize=10, rotation=45)\n",
    "plt.yticks(range(df.select_dtypes(['number']).shape[1]), df.select_dtypes(['number']).columns, fontsize=10)\n",
    "cb = plt.colorbar()\n",
    "cb.ax.tick_params(labelsize=10)\n",
    "plt.title('Correlation Matrix', fontsize=16);"
   ]
  },
  {
   "cell_type": "markdown",
   "metadata": {},
   "source": [
    "# Formulate two hypotheses about the data in the context of the given prediction task ."
   ]
  },
  {
   "cell_type": "markdown",
   "metadata": {},
   "source": [
    "An example of formulating a hypothesis: \n",
    "\n",
    "Air quality measurements in a critical state have, on average, a different (higher/lower) value of a certain chemical ( or concentration flow ) than air quality measurements in a normal state ."
   ]
  },
  {
   "cell_type": "markdown",
   "metadata": {},
   "source": [
    "Hypotosis 1:\n"
   ]
  },
  {
   "cell_type": "code",
   "execution_count": null,
   "metadata": {},
   "outputs": [],
   "source": []
  },
  {
   "cell_type": "code",
   "execution_count": null,
   "metadata": {},
   "outputs": [],
   "source": [
    "rslt_df = df['2014':'2015'].drop(['latitude', 'longitude', 'month', 'CO', 'PM2.5', 'CH4', 'SO2', 'O3', 'PAHs', 'NOx', 'CFCs', 'Pb', 'TEMP', 'H2CO', 'PRES', 'year'], axis=1)\n",
    "\n",
    "sns.set_theme(style=\"ticks\")\n",
    "sns.pairplot(rslt_df, hue=\"warning\", diag_kind=\"hist\")"
   ]
  },
  {
   "cell_type": "code",
   "execution_count": null,
   "metadata": {},
   "outputs": [],
   "source": [
    "rslt_df = df.drop(['latitude', 'longitude', 'month', 'CH4', 'PAHs', 'CFCs', 'Pb', 'TEMP', 'H2CO', 'PRES', 'year', 'PM10', 'C2H3NO5', 'NH3'], axis=1)\n",
    "\n",
    "sns.set_theme(style=\"ticks\")\n",
    "sns.pairplot(rslt_df, hue=\"warning\", diag_kind=\"hist\")"
   ]
  },
  {
   "cell_type": "code",
   "execution_count": null,
   "metadata": {},
   "outputs": [],
   "source": []
  }
 ],
 "metadata": {
  "kernelspec": {
   "display_name": "Python 3.10.7 64-bit",
   "language": "python",
   "name": "python3"
  },
  "language_info": {
   "codemirror_mode": {
    "name": "ipython",
    "version": 3
   },
   "file_extension": ".py",
   "mimetype": "text/x-python",
   "name": "python",
   "nbconvert_exporter": "python",
   "pygments_lexer": "ipython3",
   "version": "3.10.7"
  },
  "orig_nbformat": 4,
  "vscode": {
   "interpreter": {
    "hash": "bb6d78a5596d6032bc2fc4ef79bfa133fda0cd9e4af8ffb50defa778536fdc5e"
   }
  }
 },
 "nbformat": 4,
 "nbformat_minor": 2
}
