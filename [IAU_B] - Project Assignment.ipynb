{
 "cells": [
  {
   "cell_type": "markdown",
   "id": "a99d6376",
   "metadata": {},
   "source": [
    "## 1) Introduction"
   ]
  },
  {
   "cell_type": "markdown",
   "id": "4f0b525b",
   "metadata": {},
   "source": [
    "goal of the project is to acquire an overview of the functioning of data science , basic concepts and techniques of data analysis, understand how they work and gain intuition for their appropriate application for the purpose of discovering data knowledge . Also get an idea of what questions we can answer and apply using data analysis _ _ _ basic approaches of machine learning . Emphasis is placed on the analysis and preprocessing of data, the use of machine learning methods , methods of their evaluation and comparison."
   ]
  },
  {
   "cell_type": "markdown",
   "id": "068b6910",
   "metadata": {},
   "source": [
    "## 2) Exploratory Data Analysis"
   ]
  },
  {
   "cell_type": "code",
   "execution_count": null,
   "id": "74f74617",
   "metadata": {},
   "outputs": [],
   "source": [
    "# pip install plotly==5.10.0\n",
    "# pip install matplotlib\n",
    "# pip install seaborn\n",
    "# pip install pandas\n",
    "# pip install scipy\n",
    "# pip install nbformat"
   ]
  },
  {
   "cell_type": "code",
   "execution_count": null,
   "id": "edf3be14",
   "metadata": {},
   "outputs": [],
   "source": [
    "import matplotlib.pyplot as plt\n",
    "import seaborn as sns\n",
    "import pandas as pd\n",
    "import numpy as np\n",
    "import scipy.stats as stats"
   ]
  },
  {
   "cell_type": "markdown",
   "id": "a67cc26e",
   "metadata": {},
   "source": [
    "## 2.1) Reading the input data and get a glance of it\n",
    "The first thing we need to adress in this task is to read the csv files correctly. As the file name implyes, it would be reasonable to assume the files contain Comma-Seperated Values (CSV). But this is not the case, it appears that the files comprise Tab-Seperated Values (TSV). But this is a quick fix, we simply define the seperator to be tab instead of comma. \n",
    "in the following, we are reading the input data into a pandas data frame"
   ]
  },
  {
   "cell_type": "code",
   "execution_count": null,
   "id": "93eaa5c7",
   "metadata": {},
   "outputs": [],
   "source": [
    "measurements = pd.read_csv(\"Data Source/007/measurements.csv\", sep='\\t', lineterminator='\\n')\n",
    "stations = pd.read_csv(\"Data Source/007/stations.csv\", sep='\\t', lineterminator='\\n')"
   ]
  },
  {
   "cell_type": "markdown",
   "id": "9a53f793",
   "metadata": {},
   "source": [
    "Now that the data has been read, we wish to get a glance of what we are actually working with."
   ]
  },
  {
   "cell_type": "code",
   "execution_count": null,
   "id": "3efe4c23",
   "metadata": {},
   "outputs": [],
   "source": [
    "#print(measurements.info())"
   ]
  },
  {
   "cell_type": "code",
   "execution_count": null,
   "id": "0953f1a5",
   "metadata": {},
   "outputs": [],
   "source": [
    "#print(stations.info())"
   ]
  },
  {
   "cell_type": "markdown",
   "id": "3a96dfe9",
   "metadata": {},
   "source": [
    "What we can see from the info function are the datatypes, and it appears that all comlumns in the input data consist of floating points. "
   ]
  },
  {
   "cell_type": "code",
   "execution_count": null,
   "id": "2693684b",
   "metadata": {
    "scrolled": false
   },
   "outputs": [],
   "source": [
    "#measurements.head(3)"
   ]
  },
  {
   "cell_type": "code",
   "execution_count": null,
   "id": "58929b49",
   "metadata": {},
   "outputs": [],
   "source": [
    "#measurements.tail(3)"
   ]
  },
  {
   "cell_type": "code",
   "execution_count": null,
   "id": "2ab7cda4",
   "metadata": {
    "scrolled": true
   },
   "outputs": [],
   "source": [
    "#stations.head(3)"
   ]
  },
  {
   "cell_type": "code",
   "execution_count": null,
   "id": "f4558b1f",
   "metadata": {},
   "outputs": [],
   "source": [
    "#stations.tail()"
   ]
  },
  {
   "cell_type": "code",
   "execution_count": null,
   "id": "35df54a2",
   "metadata": {},
   "outputs": [],
   "source": [
    "#stations.info()"
   ]
  },
  {
   "cell_type": "markdown",
   "id": "c63ee79a",
   "metadata": {},
   "source": [
    "The initial datatype for the revision column is wrong, the following command corrects this datatype"
   ]
  },
  {
   "cell_type": "code",
   "execution_count": null,
   "id": "236c640a",
   "metadata": {},
   "outputs": [],
   "source": [
    "stations['revision'] = pd.to_datetime(stations[\"revision\"]).dt.date"
   ]
  },
  {
   "cell_type": "code",
   "execution_count": null,
   "id": "62f4b014",
   "metadata": {},
   "outputs": [],
   "source": [
    "df_cd = pd.merge(stations, measurements, how='inner', left_on = 'latitude', right_on = 'latitude')"
   ]
  },
  {
   "cell_type": "code",
   "execution_count": null,
   "id": "6067cfa3",
   "metadata": {},
   "outputs": [],
   "source": [
    "df_cd.head(3)"
   ]
  },
  {
   "cell_type": "code",
   "execution_count": null,
   "id": "cae625d1",
   "metadata": {
    "scrolled": false
   },
   "outputs": [],
   "source": [
    "import plotly.express as px\n",
    "import pandas as pd\n",
    "\n",
    "fig = px.scatter_geo(df_cd, lat=['latitude'], lon=['longitude'], hover_name=[\"location\"])\n",
    "fig.update_layout(title = 'Air Quality Monitoring Stations, 2014-2018', title_x=0.5)\n",
    "fig.show()"
   ]
  },
  {
   "cell_type": "markdown",
   "id": "856703b4",
   "metadata": {},
   "source": [
    "Other useful functions which can help to get an overview of the data frame\n",
    "- df.dtypes\n",
    "- df.index\n",
    "- df.columns\n",
    "- df.values"
   ]
  },
  {
   "cell_type": "markdown",
   "id": "dd8f4de7",
   "metadata": {},
   "source": [
    "## Number of records , number of attributes , their types"
   ]
  },
  {
   "cell_type": "markdown",
   "id": "44b305e7",
   "metadata": {},
   "source": [
    "There are multiple ways of getting the number of reccords, while the easiest one is most likely just to simply look at the length of the index column in the data frame.\n",
    "<br>Alternatyvly<br/>\n",
    "- len(df.index)\n",
    "- df.shape[0]\n",
    "- df[df.columns[0]].count() <-- This approach is very slow"
   ]
  },
  {
   "cell_type": "code",
   "execution_count": null,
   "id": "639b694a",
   "metadata": {},
   "outputs": [],
   "source": [
    "reccord_count = len(measurements.index)\n",
    "print(\"reccord_count: {0}\".format(reccord_count))\n",
    "attribute_count = len(measurements.columns)\n",
    "print(\"attribute_count: {0}\".format(attribute_count))"
   ]
  },
  {
   "cell_type": "markdown",
   "id": "7aa27d03",
   "metadata": {},
   "source": [
    "Allthough the data types were already displayed by the df.info() function earlier, we can also get the types via the following function"
   ]
  },
  {
   "cell_type": "code",
   "execution_count": null,
   "id": "d3f3b3cf",
   "metadata": {},
   "outputs": [],
   "source": [
    "print(measurements.dtypes)"
   ]
  },
  {
   "cell_type": "markdown",
   "id": "9c5f7bdf",
   "metadata": {},
   "source": [
    "## For selected significant attributes of their distribution, basic descriptive statistics, etc."
   ]
  },
  {
   "cell_type": "code",
   "execution_count": null,
   "id": "e0f1f0d0",
   "metadata": {},
   "outputs": [],
   "source": [
    "measurements.var()"
   ]
  },
  {
   "cell_type": "code",
   "execution_count": null,
   "id": "0527744b",
   "metadata": {},
   "outputs": [],
   "source": [
    "measurements.describe()"
   ]
  },
  {
   "cell_type": "code",
   "execution_count": null,
   "id": "f717876f",
   "metadata": {},
   "outputs": [],
   "source": [
    "sample = sns.displot(measurements.TEMP, bins=30)"
   ]
  },
  {
   "cell_type": "code",
   "execution_count": null,
   "id": "42d9f5d1",
   "metadata": {},
   "outputs": [],
   "source": []
  },
  {
   "cell_type": "code",
   "execution_count": null,
   "id": "6c61d541",
   "metadata": {},
   "outputs": [],
   "source": []
  },
  {
   "cell_type": "code",
   "execution_count": null,
   "id": "fe5edf0f",
   "metadata": {},
   "outputs": [],
   "source": []
  },
  {
   "cell_type": "code",
   "execution_count": null,
   "id": "12a3eb92",
   "metadata": {},
   "outputs": [],
   "source": [
    "data = [measurements[\"TEMP\"], measurements[\"warning\"]]\n",
    "headers = [\"TEMP\", \"warning\"]\n",
    "df3 = pd.concat(data, axis=1, keys=headers)\n",
    "sns.pairplot(df3)"
   ]
  },
  {
   "cell_type": "markdown",
   "id": "80a0827e",
   "metadata": {},
   "source": []
  },
  {
   "cell_type": "code",
   "execution_count": null,
   "id": "887b530a",
   "metadata": {},
   "outputs": [],
   "source": [
    "world = gpd.read_file(gpd.datasets.get_path('naturalearth_lowres'))\n",
    "gdf.plot(ax=world.plot(figsize=(15, 15)), marker='o', color='red', markersize=15);\n"
   ]
  },
  {
   "cell_type": "code",
   "execution_count": null,
   "id": "da08a1cf",
   "metadata": {},
   "outputs": [],
   "source": [
    "sample_size = len(measurements.TEMP.to_numpy())"
   ]
  },
  {
   "cell_type": "code",
   "execution_count": null,
   "id": "08102a3b",
   "metadata": {},
   "outputs": [],
   "source": []
  },
  {
   "cell_type": "code",
   "execution_count": null,
   "id": "9d1df7b9",
   "metadata": {},
   "outputs": [],
   "source": [
    "sample = measurements.TEMP.to_numpy()"
   ]
  },
  {
   "cell_type": "code",
   "execution_count": null,
   "id": "2e8b2b34",
   "metadata": {},
   "outputs": [],
   "source": [
    "print(sample)"
   ]
  },
  {
   "cell_type": "code",
   "execution_count": null,
   "id": "f14336b7",
   "metadata": {},
   "outputs": [],
   "source": [
    "type(sample)"
   ]
  },
  {
   "cell_type": "code",
   "execution_count": null,
   "id": "5ba1036d",
   "metadata": {},
   "outputs": [],
   "source": [
    "stats.skew(sample)"
   ]
  },
  {
   "cell_type": "code",
   "execution_count": null,
   "id": "84e30694",
   "metadata": {},
   "outputs": [],
   "source": [
    "len(sample)"
   ]
  },
  {
   "cell_type": "code",
   "execution_count": null,
   "id": "e6b6c7c3",
   "metadata": {},
   "outputs": [],
   "source": [
    "format(stats.skew(sample))"
   ]
  },
  {
   "cell_type": "code",
   "execution_count": null,
   "id": "44d21ae8",
   "metadata": {},
   "outputs": [],
   "source": [
    "sample = sns.displot(measurements.TEMP, bins=30)\n",
    "plt.title(\"Normalne rozdelenie: \"\"Skewness %.5f\" % (stats.skew(sample)))"
   ]
  },
  {
   "cell_type": "markdown",
   "id": "ef71e606",
   "metadata": {},
   "source": [
    "# Plot Latitude and Longitude from Pandas DataFrame in Python"
   ]
  },
  {
   "cell_type": "markdown",
   "id": "d544860b",
   "metadata": {},
   "source": [
    "Source: https://datascientyst.com/plot-latitude-longitude-pandas-dataframe-python/"
   ]
  },
  {
   "cell_type": "code",
   "execution_count": null,
   "id": "32d8bbe6",
   "metadata": {},
   "outputs": [],
   "source": []
  },
  {
   "cell_type": "code",
   "execution_count": null,
   "id": "4d7ec23b",
   "metadata": {},
   "outputs": [],
   "source": [
    "f = plt.figure(figsize=(10, 10))\n",
    "df = measurements\n",
    "plt.matshow(df.corr(), fignum=f.number)\n",
    "plt.xticks(range(df.select_dtypes(['number']).shape[1]), df.select_dtypes(['number']).columns, fontsize=10, rotation=45)\n",
    "plt.yticks(range(df.select_dtypes(['number']).shape[1]), df.select_dtypes(['number']).columns, fontsize=10)\n",
    "cb = plt.colorbar()\n",
    "cb.ax.tick_params(labelsize=10)\n",
    "plt.title('Correlation Matrix', fontsize=16);"
   ]
  },
  {
   "cell_type": "code",
   "execution_count": null,
   "id": "431e80dd",
   "metadata": {},
   "outputs": [],
   "source": [
    "from scipy.stats import pearsonr\n",
    "\n",
    "def corrfunc(x, y, **kws):\n",
    "    (r, p) = pearsonr(x, y)\n",
    "\n",
    "measurements = measurements[measurements[\"latitude\"] == \"longitude\"]\n"
   ]
  },
  {
   "cell_type": "code",
   "execution_count": null,
   "id": "0f4bead5",
   "metadata": {},
   "outputs": [],
   "source": [
    "measurements"
   ]
  },
  {
   "cell_type": "code",
   "execution_count": null,
   "id": "2103a964",
   "metadata": {},
   "outputs": [],
   "source": []
  },
  {
   "cell_type": "code",
   "execution_count": null,
   "id": "a70c8aeb",
   "metadata": {},
   "outputs": [],
   "source": []
  }
 ],
 "metadata": {
  "kernelspec": {
   "display_name": "Python 3.10.7 64-bit",
   "language": "python",
   "name": "python3"
  },
  "language_info": {
   "codemirror_mode": {
    "name": "ipython",
    "version": 3
   },
   "file_extension": ".py",
   "mimetype": "text/x-python",
   "name": "python",
   "nbconvert_exporter": "python",
   "pygments_lexer": "ipython3",
   "version": "3.10.7"
  },
  "latex_envs": {
   "LaTeX_envs_menu_present": true,
   "autoclose": false,
   "autocomplete": true,
   "bibliofile": "biblio.bib",
   "cite_by": "apalike",
   "current_citInitial": 1,
   "eqLabelWithNumbers": true,
   "eqNumInitial": 1,
   "hotkeys": {
    "equation": "Ctrl-E",
    "itemize": "Ctrl-I"
   },
   "labels_anchors": false,
   "latex_user_defs": false,
   "report_style_numbering": false,
   "user_envs_cfg": false
  },
  "nbTranslate": {
   "displayLangs": [
    "en",
    "sk"
   ],
   "hotkey": "alt-t",
   "langInMainMenu": true,
   "sourceLang": "sk",
   "targetLang": "en",
   "useGoogleTranslate": true
  },
  "vscode": {
   "interpreter": {
    "hash": "bb6d78a5596d6032bc2fc4ef79bfa133fda0cd9e4af8ffb50defa778536fdc5e"
   }
  }
 },
 "nbformat": 4,
 "nbformat_minor": 5
}
